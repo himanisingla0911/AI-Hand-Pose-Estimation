{
 "cells": [
  {
   "cell_type": "markdown",
   "metadata": {},
   "source": [
    "**1. Installing Media Pipe for Python using pip install**\n",
    "\n",
    "**2. Detect hands  from real time webcam  feed** \n",
    "\n",
    "**3. Output images using OpenCV**"
   ]
  },
  {
   "cell_type": "markdown",
   "metadata": {},
   "source": [
    "`Install and Import Dependencies`\n",
    "\n",
    "##### Mediapipe gives us a bunch of different computer vision solutions, so, we are able to use for hand tracking, holistics tracking, body pose tracking etc\n",
    "\n",
    "##### OpenCV allows us ro work with webcam, images etc"
   ]
  },
  {
   "cell_type": "code",
   "execution_count": 2,
   "metadata": {},
   "outputs": [
    {
     "name": "stdout",
     "output_type": "stream",
     "text": [
      "Collecting mediapipe\n",
      "  Obtaining dependency information for mediapipe from https://files.pythonhosted.org/packages/e9/7b/cd671c5067a56e1b4a9b70d0e42ac8cdb9f63acdc186589827cf213802a5/mediapipe-0.10.9-cp311-cp311-win_amd64.whl.metadata\n",
      "  Downloading mediapipe-0.10.9-cp311-cp311-win_amd64.whl.metadata (9.8 kB)\n",
      "Requirement already satisfied: opencv-python in c:\\users\\himani singla\\appdata\\local\\programs\\python\\python311\\lib\\site-packages (4.8.1.78)\n",
      "Requirement already satisfied: absl-py in c:\\users\\himani singla\\appdata\\local\\programs\\python\\python311\\lib\\site-packages (from mediapipe) (2.1.0)\n",
      "Requirement already satisfied: attrs>=19.1.0 in c:\\users\\himani singla\\appdata\\local\\programs\\python\\python311\\lib\\site-packages (from mediapipe) (23.1.0)\n",
      "Requirement already satisfied: flatbuffers>=2.0 in c:\\users\\himani singla\\appdata\\local\\programs\\python\\python311\\lib\\site-packages (from mediapipe) (23.5.26)\n",
      "Requirement already satisfied: matplotlib in c:\\users\\himani singla\\appdata\\local\\programs\\python\\python311\\lib\\site-packages (from mediapipe) (3.8.0)\n",
      "Requirement already satisfied: numpy in c:\\users\\himani singla\\appdata\\local\\programs\\python\\python311\\lib\\site-packages (from mediapipe) (1.25.2)\n",
      "Collecting opencv-contrib-python (from mediapipe)\n",
      "  Obtaining dependency information for opencv-contrib-python from https://files.pythonhosted.org/packages/aa/2e/576ac47f21d555b459ca837bb3fb937e50339b8fbfd294945ea2f5290416/opencv_contrib_python-4.9.0.80-cp37-abi3-win_amd64.whl.metadata\n",
      "  Downloading opencv_contrib_python-4.9.0.80-cp37-abi3-win_amd64.whl.metadata (20 kB)\n",
      "Collecting protobuf<4,>=3.11 (from mediapipe)\n",
      "  Downloading protobuf-3.20.3-py2.py3-none-any.whl (162 kB)\n",
      "     ---------------------------------------- 0.0/162.1 kB ? eta -:--:--\n",
      "     -------------------------- ----------- 112.6/162.1 kB 3.3 MB/s eta 0:00:01\n",
      "     -------------------------------------- 162.1/162.1 kB 3.2 MB/s eta 0:00:00\n",
      "Collecting sounddevice>=0.4.4 (from mediapipe)\n",
      "  Downloading sounddevice-0.4.6-py3-none-win_amd64.whl (199 kB)\n",
      "     ---------------------------------------- 0.0/199.7 kB ? eta -:--:--\n",
      "     ------------------------------- ------ 163.8/199.7 kB 9.6 MB/s eta 0:00:01\n",
      "     ------------------------------- ------ 163.8/199.7 kB 9.6 MB/s eta 0:00:01\n",
      "     -------------------------------------  194.6/199.7 kB 1.3 MB/s eta 0:00:01\n",
      "     -------------------------------------- 199.7/199.7 kB 1.3 MB/s eta 0:00:00\n",
      "Requirement already satisfied: CFFI>=1.0 in c:\\users\\himani singla\\appdata\\local\\programs\\python\\python311\\lib\\site-packages (from sounddevice>=0.4.4->mediapipe) (1.15.1)\n",
      "Requirement already satisfied: contourpy>=1.0.1 in c:\\users\\himani singla\\appdata\\local\\programs\\python\\python311\\lib\\site-packages (from matplotlib->mediapipe) (1.1.1)\n",
      "Requirement already satisfied: cycler>=0.10 in c:\\users\\himani singla\\appdata\\local\\programs\\python\\python311\\lib\\site-packages (from matplotlib->mediapipe) (0.11.0)\n",
      "Requirement already satisfied: fonttools>=4.22.0 in c:\\users\\himani singla\\appdata\\local\\programs\\python\\python311\\lib\\site-packages (from matplotlib->mediapipe) (4.42.1)\n",
      "Requirement already satisfied: kiwisolver>=1.0.1 in c:\\users\\himani singla\\appdata\\local\\programs\\python\\python311\\lib\\site-packages (from matplotlib->mediapipe) (1.4.5)\n",
      "Requirement already satisfied: packaging>=20.0 in c:\\users\\himani singla\\appdata\\local\\programs\\python\\python311\\lib\\site-packages (from matplotlib->mediapipe) (23.1)\n",
      "Requirement already satisfied: pillow>=6.2.0 in c:\\users\\himani singla\\appdata\\local\\programs\\python\\python311\\lib\\site-packages (from matplotlib->mediapipe) (10.0.1)\n",
      "Requirement already satisfied: pyparsing>=2.3.1 in c:\\users\\himani singla\\appdata\\local\\programs\\python\\python311\\lib\\site-packages (from matplotlib->mediapipe) (3.1.1)\n",
      "Requirement already satisfied: python-dateutil>=2.7 in c:\\users\\himani singla\\appdata\\local\\programs\\python\\python311\\lib\\site-packages (from matplotlib->mediapipe) (2.8.2)\n",
      "Requirement already satisfied: pycparser in c:\\users\\himani singla\\appdata\\local\\programs\\python\\python311\\lib\\site-packages (from CFFI>=1.0->sounddevice>=0.4.4->mediapipe) (2.21)\n",
      "Requirement already satisfied: six>=1.5 in c:\\users\\himani singla\\appdata\\local\\programs\\python\\python311\\lib\\site-packages (from python-dateutil>=2.7->matplotlib->mediapipe) (1.16.0)\n",
      "Downloading mediapipe-0.10.9-cp311-cp311-win_amd64.whl (50.5 MB)\n",
      "   ---------------------------------------- 0.0/50.5 MB ? eta -:--:--\n",
      "   ---------------------------------------- 0.0/50.5 MB ? eta -:--:--\n",
      "   ---------------------------------------- 0.0/50.5 MB ? eta -:--:--\n",
      "   ---------------------------------------- 0.2/50.5 MB 1.1 MB/s eta 0:00:46\n",
      "   ---------------------------------------- 0.5/50.5 MB 2.5 MB/s eta 0:00:21\n",
      "    --------------------------------------- 0.9/50.5 MB 4.3 MB/s eta 0:00:12\n",
      "    --------------------------------------- 0.9/50.5 MB 4.3 MB/s eta 0:00:12\n",
      "    --------------------------------------- 0.9/50.5 MB 4.3 MB/s eta 0:00:12\n",
      "    --------------------------------------- 1.1/50.5 MB 2.9 MB/s eta 0:00:17\n",
      "   - -------------------------------------- 1.6/50.5 MB 3.8 MB/s eta 0:00:13\n",
      "   - -------------------------------------- 1.6/50.5 MB 3.8 MB/s eta 0:00:13\n",
      "   - -------------------------------------- 1.6/50.5 MB 3.8 MB/s eta 0:00:13\n",
      "   - -------------------------------------- 1.8/50.5 MB 3.2 MB/s eta 0:00:16\n",
      "   - -------------------------------------- 2.0/50.5 MB 3.3 MB/s eta 0:00:15\n",
      "   -- ------------------------------------- 3.0/50.5 MB 4.5 MB/s eta 0:00:11\n",
      "   -- ------------------------------------- 3.6/50.5 MB 5.0 MB/s eta 0:00:10\n",
      "   --- ------------------------------------ 4.9/50.5 MB 6.3 MB/s eta 0:00:08\n",
      "   ---- ----------------------------------- 6.2/50.5 MB 7.7 MB/s eta 0:00:06\n",
      "   ----- ---------------------------------- 7.6/50.5 MB 8.8 MB/s eta 0:00:05\n",
      "   ------- -------------------------------- 8.9/50.5 MB 10.0 MB/s eta 0:00:05\n",
      "   ------- -------------------------------- 9.6/50.5 MB 10.4 MB/s eta 0:00:04\n",
      "   -------- ------------------------------- 10.7/50.5 MB 13.1 MB/s eta 0:00:04\n",
      "   --------- ------------------------------ 12.1/50.5 MB 24.2 MB/s eta 0:00:02\n",
      "   ---------- ----------------------------- 13.2/50.5 MB 26.2 MB/s eta 0:00:02\n",
      "   ----------- ---------------------------- 14.3/50.5 MB 26.2 MB/s eta 0:00:02\n",
      "   ------------ --------------------------- 15.5/50.5 MB 27.3 MB/s eta 0:00:02\n",
      "   ------------- -------------------------- 16.8/50.5 MB 25.2 MB/s eta 0:00:02\n",
      "   -------------- ------------------------- 18.3/50.5 MB 27.3 MB/s eta 0:00:02\n",
      "   --------------- ------------------------ 19.3/50.5 MB 28.5 MB/s eta 0:00:02\n",
      "   ---------------- ----------------------- 21.2/50.5 MB 28.5 MB/s eta 0:00:02\n",
      "   ----------------- ---------------------- 22.4/50.5 MB 28.5 MB/s eta 0:00:01\n",
      "   ------------------ --------------------- 23.3/50.5 MB 28.4 MB/s eta 0:00:01\n",
      "   ------------------- -------------------- 25.1/50.5 MB 31.2 MB/s eta 0:00:01\n",
      "   -------------------- ------------------- 26.4/50.5 MB 31.2 MB/s eta 0:00:01\n",
      "   ---------------------- ----------------- 28.2/50.5 MB 31.2 MB/s eta 0:00:01\n",
      "   ---------------------- ----------------- 29.0/50.5 MB 28.4 MB/s eta 0:00:01\n",
      "   ------------------------ --------------- 30.6/50.5 MB 29.7 MB/s eta 0:00:01\n",
      "   ------------------------- -------------- 32.5/50.5 MB 31.2 MB/s eta 0:00:01\n",
      "   ------------------------- -------------- 32.5/50.5 MB 31.2 MB/s eta 0:00:01\n",
      "   ------------------------- -------------- 32.5/50.5 MB 31.2 MB/s eta 0:00:01\n",
      "   ------------------------- -------------- 32.5/50.5 MB 31.2 MB/s eta 0:00:01\n",
      "   -------------------------- ------------- 33.9/50.5 MB 24.2 MB/s eta 0:00:01\n",
      "   --------------------------- ------------ 35.2/50.5 MB 21.8 MB/s eta 0:00:01\n",
      "   ----------------------------- ---------- 37.4/50.5 MB 22.6 MB/s eta 0:00:01\n",
      "   ------------------------------ --------- 38.2/50.5 MB 21.8 MB/s eta 0:00:01\n",
      "   -------------------------------- ------- 40.5/50.5 MB 23.4 MB/s eta 0:00:01\n",
      "   --------------------------------- ------ 42.3/50.5 MB 23.4 MB/s eta 0:00:01\n",
      "   ----------------------------------- ---- 44.4/50.5 MB 36.3 MB/s eta 0:00:01\n",
      "   ------------------------------------ --- 45.7/50.5 MB 34.4 MB/s eta 0:00:01\n",
      "   ------------------------------------ --- 46.4/50.5 MB 31.2 MB/s eta 0:00:01\n",
      "   -------------------------------------- - 48.4/50.5 MB 36.4 MB/s eta 0:00:01\n",
      "   ---------------------------------------  49.6/50.5 MB 34.4 MB/s eta 0:00:01\n",
      "   ---------------------------------------  50.5/50.5 MB 34.4 MB/s eta 0:00:01\n",
      "   ---------------------------------------  50.5/50.5 MB 34.4 MB/s eta 0:00:01\n",
      "   ---------------------------------------  50.5/50.5 MB 34.4 MB/s eta 0:00:01\n",
      "   ---------------------------------------  50.5/50.5 MB 34.4 MB/s eta 0:00:01\n",
      "   ---------------------------------------  50.5/50.5 MB 34.4 MB/s eta 0:00:01\n",
      "   ---------------------------------------- 50.5/50.5 MB 17.7 MB/s eta 0:00:00\n",
      "Downloading opencv_contrib_python-4.9.0.80-cp37-abi3-win_amd64.whl (45.3 MB)\n",
      "   ---------------------------------------- 0.0/45.3 MB ? eta -:--:--\n",
      "   - -------------------------------------- 1.3/45.3 MB 40.6 MB/s eta 0:00:02\n",
      "   -- ------------------------------------- 3.1/45.3 MB 33.0 MB/s eta 0:00:02\n",
      "   ---- ----------------------------------- 5.1/45.3 MB 40.9 MB/s eta 0:00:01\n",
      "   ----- ---------------------------------- 6.6/45.3 MB 35.1 MB/s eta 0:00:02\n",
      "   ------- -------------------------------- 8.6/45.3 MB 39.0 MB/s eta 0:00:01\n",
      "   -------- ------------------------------- 9.6/45.3 MB 36.2 MB/s eta 0:00:01\n",
      "   --------- ------------------------------ 10.8/45.3 MB 36.3 MB/s eta 0:00:01\n",
      "   ----------- ---------------------------- 12.8/45.3 MB 36.3 MB/s eta 0:00:01\n",
      "   ------------ --------------------------- 13.8/45.3 MB 34.6 MB/s eta 0:00:01\n",
      "   ------------- -------------------------- 15.2/45.3 MB 32.7 MB/s eta 0:00:01\n",
      "   --------------- ------------------------ 17.1/45.3 MB 32.8 MB/s eta 0:00:01\n",
      "   ---------------- ----------------------- 18.8/45.3 MB 32.8 MB/s eta 0:00:01\n",
      "   ------------------ --------------------- 20.5/45.3 MB 34.4 MB/s eta 0:00:01\n",
      "   ------------------- -------------------- 21.9/45.3 MB 32.7 MB/s eta 0:00:01\n",
      "   --------------------- ------------------ 23.9/45.3 MB 38.5 MB/s eta 0:00:01\n",
      "   ---------------------- ----------------- 25.3/45.3 MB 34.4 MB/s eta 0:00:01\n",
      "   ------------------------ --------------- 27.2/45.3 MB 36.4 MB/s eta 0:00:01\n",
      "   ------------------------- -------------- 29.1/45.3 MB 38.5 MB/s eta 0:00:01\n",
      "   -------------------------- ------------- 30.0/45.3 MB 34.4 MB/s eta 0:00:01\n",
      "   --------------------------- ------------ 31.7/45.3 MB 34.6 MB/s eta 0:00:01\n",
      "   ----------------------------- ---------- 32.9/45.3 MB 34.4 MB/s eta 0:00:01\n",
      "   ------------------------------ --------- 34.7/45.3 MB 38.5 MB/s eta 0:00:01\n",
      "   -------------------------------- ------- 36.4/45.3 MB 36.4 MB/s eta 0:00:01\n",
      "   --------------------------------- ------ 38.2/45.3 MB 34.4 MB/s eta 0:00:01\n",
      "   ---------------------------------- ----- 38.9/45.3 MB 31.2 MB/s eta 0:00:01\n",
      "   ----------------------------------- ---- 40.3/45.3 MB 32.8 MB/s eta 0:00:01\n",
      "   ------------------------------------ --- 41.5/45.3 MB 29.7 MB/s eta 0:00:01\n",
      "   -------------------------------------- - 43.3/45.3 MB 32.7 MB/s eta 0:00:01\n",
      "   ---------------------------------------  44.8/45.3 MB 31.2 MB/s eta 0:00:01\n",
      "   ---------------------------------------  45.3/45.3 MB 31.2 MB/s eta 0:00:01\n",
      "   ---------------------------------------  45.3/45.3 MB 31.2 MB/s eta 0:00:01\n",
      "   ---------------------------------------  45.3/45.3 MB 31.2 MB/s eta 0:00:01\n",
      "   ---------------------------------------  45.3/45.3 MB 31.2 MB/s eta 0:00:01\n",
      "   ---------------------------------------  45.3/45.3 MB 31.2 MB/s eta 0:00:01\n",
      "   ---------------------------------------- 45.3/45.3 MB 16.8 MB/s eta 0:00:00\n",
      "Installing collected packages: protobuf, opencv-contrib-python, sounddevice, mediapipe\n",
      "  Attempting uninstall: protobuf\n",
      "    Found existing installation: protobuf 4.23.4\n",
      "    Uninstalling protobuf-4.23.4:\n",
      "      Successfully uninstalled protobuf-4.23.4\n",
      "Successfully installed mediapipe-0.10.9 opencv-contrib-python-4.9.0.80 protobuf-3.20.3 sounddevice-0.4.6\n"
     ]
    },
    {
     "name": "stderr",
     "output_type": "stream",
     "text": [
      "\n",
      "[notice] A new release of pip is available: 23.2.1 -> 24.0\n",
      "[notice] To update, run: python.exe -m pip install --upgrade pip\n"
     ]
    }
   ],
   "source": [
    "!pip install mediapipe opencv-python"
   ]
  },
  {
   "cell_type": "markdown",
   "metadata": {},
   "source": [
    "- uuid : allows you to generate a unique identifier, so basiaclly allows you to generate a random string that which then you are  able to use as you image name \n",
    "- os:  stands for operating systems"
   ]
  },
  {
   "cell_type": "code",
   "execution_count": 3,
   "metadata": {},
   "outputs": [
    {
     "name": "stdout",
     "output_type": "stream",
     "text": [
      "WARNING:tensorflow:From c:\\Users\\Himani Singla\\AppData\\Local\\Programs\\Python\\Python311\\Lib\\site-packages\\keras\\src\\losses.py:2976: The name tf.losses.sparse_softmax_cross_entropy is deprecated. Please use tf.compat.v1.losses.sparse_softmax_cross_entropy instead.\n",
      "\n"
     ]
    }
   ],
   "source": [
    "import mediapipe as mp\n",
    "import cv2\n",
    "import numpy as np\n",
    "import uuid   \n",
    "import os"
   ]
  },
  {
   "cell_type": "markdown",
   "metadata": {},
   "source": [
    "`Draw Hands`\n"
   ]
  },
  {
   "cell_type": "code",
   "execution_count": 4,
   "metadata": {},
   "outputs": [],
   "source": [
    "mp_drawing  = mp.solutions.drawing_utils  #make it easier to render all the different landmarks in our hand\n",
    "mp_hands = mp.solutions.hands"
   ]
  },
  {
   "cell_type": "code",
   "execution_count": 5,
   "metadata": {},
   "outputs": [
    {
     "data": {
      "text/html": [
       "<img src=\"http://i.imgur.com/qpRACer.png\"/>"
      ],
      "text/plain": [
       "<IPython.core.display.Image object>"
      ]
     },
     "metadata": {},
     "output_type": "display_data"
    }
   ],
   "source": [
    "from IPython.display import Image, display\n",
    "# Provide the URL of the image\n",
    "image_url = \"http://i.imgur.com/qpRACer.png\"\n",
    "# Display the image\n",
    "display(Image(url=image_url))\n"
   ]
  },
  {
   "cell_type": "markdown",
   "metadata": {},
   "source": [
    "- These Red dots are different landmanrks on our hand"
   ]
  },
  {
   "cell_type": "code",
   "execution_count": 46,
   "metadata": {},
   "outputs": [
    {
     "name": "stdout",
     "output_type": "stream",
     "text": [
      "<class 'mediapipe.python.solution_base.SolutionOutputs'>\n",
      "<class 'mediapipe.python.solution_base.SolutionOutputs'>\n",
      "<class 'mediapipe.python.solution_base.SolutionOutputs'>\n",
      "<class 'mediapipe.python.solution_base.SolutionOutputs'>\n",
      "<class 'mediapipe.python.solution_base.SolutionOutputs'>\n",
      "<class 'mediapipe.python.solution_base.SolutionOutputs'>\n",
      "<class 'mediapipe.python.solution_base.SolutionOutputs'>\n",
      "<class 'mediapipe.python.solution_base.SolutionOutputs'>\n",
      "<class 'mediapipe.python.solution_base.SolutionOutputs'>\n",
      "<class 'mediapipe.python.solution_base.SolutionOutputs'>\n",
      "<class 'mediapipe.python.solution_base.SolutionOutputs'>\n"
     ]
    }
   ],
   "source": [
    "cap = cv2.VideoCapture(0)\n",
    "\n",
    "with mp_hands.Hands(min_detection_confidence = 0.8, min_tracking_confidence = 0.5) as hands:\n",
    "    while cap.isOpened():\n",
    "        ret, frame = cap.read()\n",
    "    \n",
    "        # BGR TO RGB\n",
    "        image = cv2.cvtColor(frame, cv2.COLOR_BGR2RGB)   #RECOLOR OUR IMAGE\n",
    "\n",
    "        #flip on horizontal\n",
    "        image = cv2.flip(image, 1)\n",
    "\n",
    "        # Set flag \n",
    "        image.flags.writeable = False\n",
    "\n",
    "        #Detections\n",
    "        results = hands.process(image)\n",
    "\n",
    "        #Set flag to true\n",
    "        image.flags.writeable = True\n",
    "\n",
    "        # recolor from RGB to BGR\n",
    "        image = cv2.cvtColor(image, cv2.COLOR_RGB2BGR)\n",
    "\n",
    "        # Detections\n",
    "        print(results)\n",
    "\n",
    "# DrwaingSpec is a MediaPipe class that allows you to customize the look of your detections. \n",
    "        if results.multi_hand_landmarks:\n",
    "            for num, hand in enumerate(results.multi_hand_landmarks):\n",
    "                mp_drawing.draw_landmarks(image, hand, mp_hands.HAND_CONNECTIONS,\n",
    "                                        mp_drawing.DrawingSpec(color =(121, 22, 76), thickness=2, circle_radius = 4),\n",
    "                                        mp_drawing.DrawingSpec(color =(121, 44, 250), thickness=2, circle_radius = 2))\n",
    "\n",
    "        cv2.imshow('Hand Tracking', image)  #image will reperesents the image form the webcam\n",
    "\n",
    "        if cv2.waitKey(10) & 0xFF == ord('q'):\n",
    "            break\n",
    "cap.release()\n",
    "cv2.destroyAllWindows()"
   ]
  },
  {
   "cell_type": "markdown",
   "metadata": {},
   "source": [
    "## 3. Output Images"
   ]
  },
  {
   "cell_type": "code",
   "execution_count": 52,
   "metadata": {},
   "outputs": [
    {
     "name": "stdout",
     "output_type": "stream",
     "text": [
      "<class 'mediapipe.python.solution_base.SolutionOutputs'>\n",
      "<class 'mediapipe.python.solution_base.SolutionOutputs'>\n",
      "<class 'mediapipe.python.solution_base.SolutionOutputs'>\n",
      "<class 'mediapipe.python.solution_base.SolutionOutputs'>\n",
      "<class 'mediapipe.python.solution_base.SolutionOutputs'>\n",
      "<class 'mediapipe.python.solution_base.SolutionOutputs'>\n",
      "<class 'mediapipe.python.solution_base.SolutionOutputs'>\n",
      "<class 'mediapipe.python.solution_base.SolutionOutputs'>\n",
      "<class 'mediapipe.python.solution_base.SolutionOutputs'>\n",
      "<class 'mediapipe.python.solution_base.SolutionOutputs'>\n",
      "<class 'mediapipe.python.solution_base.SolutionOutputs'>\n",
      "<class 'mediapipe.python.solution_base.SolutionOutputs'>\n",
      "<class 'mediapipe.python.solution_base.SolutionOutputs'>\n",
      "<class 'mediapipe.python.solution_base.SolutionOutputs'>\n",
      "<class 'mediapipe.python.solution_base.SolutionOutputs'>\n",
      "<class 'mediapipe.python.solution_base.SolutionOutputs'>\n"
     ]
    }
   ],
   "source": [
    "#os.mkdir(\"output images\")\n",
    "cap = cv2.VideoCapture(0)\n",
    "\n",
    "with mp_hands.Hands(min_detection_confidence = 0.8, min_tracking_confidence = 0.5) as hands:\n",
    "    while cap.isOpened():\n",
    "        ret, frame = cap.read()\n",
    "    \n",
    "        # BGR TO RGB\n",
    "        image = cv2.cvtColor(frame, cv2.COLOR_BGR2RGB)   #RECOLOR OUR IMAGE\n",
    "\n",
    "        #flip on horizontal\n",
    "        image = cv2.flip(image, 1)\n",
    "\n",
    "        # Set flag \n",
    "        image.flags.writeable = False\n",
    "\n",
    "        #Detections\n",
    "        results = hands.process(image)\n",
    "\n",
    "        #Set flag to true\n",
    "        image.flags.writeable = True\n",
    "\n",
    "        # recolor from RGB to BGR\n",
    "        image = cv2.cvtColor(image, cv2.COLOR_RGB2BGR)\n",
    "\n",
    "        # Detections\n",
    "        print(results)\n",
    "\n",
    "# DrwaingSpec is a MediaPipe class that allows you to customize the look of your detections. \n",
    "        if results.multi_hand_landmarks:\n",
    "            for num, hand in enumerate(results.multi_hand_landmarks):\n",
    "                mp_drawing.draw_landmarks(image, hand, mp_hands.HAND_CONNECTIONS,\n",
    "                                        mp_drawing.DrawingSpec(color =(121, 22, 76), thickness=2, circle_radius = 4),\n",
    "                                        mp_drawing.DrawingSpec(color =(121, 44, 250), thickness=2, circle_radius = 2))\n",
    "\n",
    "        #save our image\n",
    "        cv2.imwrite(os.path.join('output images','{}.jpg'.format(uuid.uuid1())),image)\n",
    "        \n",
    "        cv2.imshow('Hand Tracking', image)  #image will reperesents the image form the webcam\n",
    "\n",
    "        if cv2.waitKey(10) & 0xFF == ord('q'):\n",
    "            break\n",
    "cap.release()\n",
    "cv2.destroyAllWindows()"
   ]
  },
  {
   "cell_type": "code",
   "execution_count": 28,
   "metadata": {},
   "outputs": [],
   "source": []
  },
  {
   "cell_type": "code",
   "execution_count": null,
   "metadata": {},
   "outputs": [],
   "source": []
  },
  {
   "cell_type": "code",
   "execution_count": null,
   "metadata": {},
   "outputs": [],
   "source": []
  },
  {
   "cell_type": "code",
   "execution_count": null,
   "metadata": {},
   "outputs": [],
   "source": []
  }
 ],
 "metadata": {
  "kernelspec": {
   "display_name": "Python 3",
   "language": "python",
   "name": "python3"
  },
  "language_info": {
   "codemirror_mode": {
    "name": "ipython",
    "version": 3
   },
   "file_extension": ".py",
   "mimetype": "text/x-python",
   "name": "python",
   "nbconvert_exporter": "python",
   "pygments_lexer": "ipython3",
   "version": "3.11.5"
  }
 },
 "nbformat": 4,
 "nbformat_minor": 2
}
